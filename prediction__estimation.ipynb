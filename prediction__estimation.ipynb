{
 "cells": [
  {
   "cell_type": "code",
   "execution_count": 2,
   "id": "6c9d3b77",
   "metadata": {},
   "outputs": [],
   "source": [
    "# PE算法填补缺失值\n",
    "import numpy as np"
   ]
  },
  {
   "cell_type": "code",
   "execution_count": 2,
   "id": "3119e874",
   "metadata": {},
   "outputs": [],
   "source": [
    "# 创建用均值填充的初始值矩阵\n",
    "matrix = np.array([[6.0, 0, 3],\n",
    "                    [7, 2, 6],\n",
    "                    [5, 1, 2],\n",
    "                    [6.0, 1.0, 5]])"
   ]
  },
  {
   "cell_type": "code",
   "execution_count": 3,
   "id": "a45b7fd2",
   "metadata": {},
   "outputs": [],
   "source": [
    "# 按列求均值\n",
    "mean_values = np.mean(matrix, axis=0)"
   ]
  },
  {
   "cell_type": "code",
   "execution_count": 4,
   "id": "37474e38",
   "metadata": {},
   "outputs": [],
   "source": [
    "# 按列计算协方差矩阵\n",
    "cov_matrix = np.cov(matrix, rowvar=False, ddof=0)  #默认情况下，ddof等于1，即使用 n-1作为除数。小样本条件下，将ddof设置为0，使用 n作为除数。"
   ]
  },
  {
   "cell_type": "code",
   "execution_count": 5,
   "id": "1ca8c2d8",
   "metadata": {},
   "outputs": [
    {
     "data": {
      "text/plain": [
       "5.7272727272727275"
      ]
     },
     "execution_count": 5,
     "metadata": {},
     "output_type": "execute_result"
    }
   ],
   "source": [
    "#对于缺失值x11做估计\n",
    "x11_pred = mean_values[0] + cov_matrix[0, 1:]@np.linalg.inv(cov_matrix[1:, 1:])@(matrix[0,1:] - mean_values[1:]).T\n",
    "x11_pred"
   ]
  },
  {
   "cell_type": "code",
   "execution_count": 6,
   "id": "53bc68db",
   "metadata": {},
   "outputs": [],
   "source": [
    "#与x11有关的协方差估计\n",
    "x11_2_pred_array = cov_matrix[0,0] - cov_matrix[0, 1:]@np.linalg.inv(cov_matrix[1:, 1:])@cov_matrix[:1, 1:].T + pow(x11_pred , 2)\n",
    "x11_2_pred = x11_2_pred_array[0]\n",
    "x11_x12_pred = x11_pred * matrix[0,1]\n",
    "x11_x13_pred = x11_pred * matrix[0,2]"
   ]
  },
  {
   "cell_type": "code",
   "execution_count": 7,
   "id": "f22dfa95",
   "metadata": {},
   "outputs": [],
   "source": [
    "#对缺失值（x41,x42）的向量估计  \n",
    "pred_array_x41_x42 =  mean_values[0:2] + cov_matrix[2:, 0:2]*np.linalg.inv(cov_matrix[2:, 2:])*(matrix[3,2] - mean_values[2])\n",
    "x41_pred = pred_array_x41_x42[0,0]\n",
    "x42_pred = pred_array_x41_x42[0,1]"
   ]
  },
  {
   "cell_type": "code",
   "execution_count": 8,
   "id": "f064305e",
   "metadata": {},
   "outputs": [],
   "source": [
    "b = np.array([[x41_pred],[x42_pred]])"
   ]
  },
  {
   "cell_type": "code",
   "execution_count": 9,
   "id": "ce1e2db6",
   "metadata": {},
   "outputs": [],
   "source": [
    "#与x41，x42有关的协方差矩阵估计\n",
    "pred_matrix_x41_x42 = cov_matrix[:2,:2] - cov_matrix[2:, 0:2].T*np.linalg.inv(cov_matrix[2:, 2:])@cov_matrix[2:, 0:2] + b@b.T\n",
    "x41_x43_pred = x41_pred*matrix[3, 2]\n",
    "x42_x43_pred = x42_pred*matrix[3, 2]\n",
    "x41_2_pred = pred_matrix_x41_x42[0,0]\n",
    "x42_2_pred = pred_matrix_x41_x42[1,1]\n",
    "x41_x42_pred = pred_matrix_x41_x42[0,1]"
   ]
  },
  {
   "cell_type": "code",
   "execution_count": 10,
   "id": "b7814243",
   "metadata": {},
   "outputs": [],
   "source": [
    "#更新均值和协方差矩阵\n",
    "mean_new = 1/4 * np.array([[x11_pred  + matrix[1,0] + matrix[2,0] +   x41_pred],\n",
    "                          [matrix[0,1] + matrix[1,1] + matrix[2,1] +   x42_pred],\n",
    "                          [matrix[0,2] + matrix[1,2] + matrix[2,2] + matrix[3,2]]])"
   ]
  },
  {
   "cell_type": "code",
   "execution_count": 11,
   "id": "bc5673e7",
   "metadata": {},
   "outputs": [],
   "source": [
    "T = np.zeros((3,3))\n",
    "T[0,0] = x11_2_pred + pow(matrix[1,0],2) + pow(matrix[2,0],2) + x41_2_pred\n",
    "T[0,1] = x11_x12_pred + matrix[1,0]*matrix[1,1] + matrix[2,0]*matrix[2,1] + x41_x42_pred\n",
    "T[0,2] = x11_x13_pred + matrix[1,0]*matrix[1,2] + matrix[2,0]*matrix[2,2] + x41_x43_pred\n",
    "T[1,0] = T[0,1]\n",
    "T[1,1] = pow(matrix[0,1],2) + pow(matrix[1,1],2)+ pow(matrix[2,1],2) + x42_2_pred\n",
    "T[1,2] = matrix[0,1]*matrix[0,2] + matrix[1,1]*matrix[1,2]+ matrix[2,1]*matrix[2,2] +x42_x43_pred\n",
    "T[2,0] = T[0,2]\n",
    "T[2,1] = T[1,2]\n",
    "T[2,2] = pow(matrix[0,2],2) + pow(matrix[1,2],2) + pow(matrix[2,2],2) + pow(matrix[3,2],2)"
   ]
  },
  {
   "cell_type": "code",
   "execution_count": 12,
   "id": "23d121f9",
   "metadata": {},
   "outputs": [
    {
     "data": {
      "text/plain": [
       "array([[0.60530992, 0.33329545, 1.16818182],\n",
       "       [0.33329545, 0.585625  , 0.825     ],\n",
       "       [1.16818182, 0.825     , 2.5       ]])"
      ]
     },
     "execution_count": 12,
     "metadata": {},
     "output_type": "execute_result"
    }
   ],
   "source": [
    "cov_new = 1/4*T - mean_new@mean_new.T\n",
    "cov_new"
   ]
  },
  {
   "cell_type": "code",
   "execution_count": 13,
   "id": "8b62b96a",
   "metadata": {},
   "outputs": [],
   "source": [
    "m =1"
   ]
  },
  {
   "cell_type": "code",
   "execution_count": 14,
   "id": "8791cdf7",
   "metadata": {},
   "outputs": [],
   "source": [
    "while np.linalg.norm(cov_new - cov_matrix)  >0.00001 or np.linalg.norm(mean_new - mean_values.reshape(-1, 1)) >0.00001 and m <100:\n",
    "    mean_values = mean_new.flatten()\n",
    "    cov_matrix = cov_new\n",
    "    #对于缺失值x11做估计\n",
    "    x11_pred = mean_values[0] + cov_matrix[0, 1:]@np.linalg.inv(cov_matrix[1:, 1:])@(matrix[0,1:] - mean_values[1:])\n",
    "    #与x11有关的协方差估计\n",
    "    x11_2_pred_array = cov_matrix[0,0] - cov_matrix[0, 1:]@np.linalg.inv(cov_matrix[1:, 1:])@cov_matrix[:1, 1:].T + pow(x11_pred , 2)\n",
    "    x11_2_pred = x11_2_pred_array[0]\n",
    "    x11_x12_pred = x11_pred * matrix[0,1]\n",
    "    x11_x13_pred = x11_pred * matrix[0,2]\n",
    "    #对缺失值（x41,x42）的向量估计  \n",
    "    pred_array_x41_x42 =  mean_values[0:2] + cov_matrix[2:, 0:2]*np.linalg.inv(cov_matrix[2:, 2:])*(matrix[3,2] - mean_values[2])\n",
    "    x41_pred = pred_array_x41_x42[0,0]\n",
    "    x42_pred = pred_array_x41_x42[0,1]\n",
    "    b = np.array([[x41_pred],[x42_pred]])\n",
    "    #与x41，x42有关的协方差矩阵估计\n",
    "    pred_matrix_x41_x42 = cov_matrix[:2,:2] - cov_matrix[2:, 0:2].T*np.linalg.inv(cov_matrix[2:, 2:])@cov_matrix[2:, 0:2] + b@b.T\n",
    "    x41_x43_pred = x41_pred*matrix[3, 2]\n",
    "    x42_x43_pred = x42_pred*matrix[3, 2]\n",
    "    x41_2_pred   = pred_matrix_x41_x42[0,0]\n",
    "    x42_2_pred   = pred_matrix_x41_x42[1,1]\n",
    "    x41_x42_pred = pred_matrix_x41_x42[0,1]\n",
    "    #更新均值和协方差矩阵\n",
    "    mean_new = 1/4 * np.array([[x11_pred  + matrix[1,0] + matrix[2,0] +   x41_pred],\n",
    "                              [matrix[0,1] + matrix[1,1] + matrix[2,1] +   x42_pred],\n",
    "                              [matrix[0,2] + matrix[1,2] + matrix[2,2] + matrix[3,2]]])\n",
    "    T = np.zeros((3,3))\n",
    "    T[0,0] = x11_2_pred + pow(matrix[1,0],2) + pow(matrix[2,0],2) + x41_2_pred\n",
    "    T[0,1] = x11_x12_pred + matrix[1,0]*matrix[1,1] + matrix[2,0]*matrix[2,1] + x41_x42_pred\n",
    "    T[0,2] = x11_x13_pred + matrix[1,0]*matrix[1,2] + matrix[2,0]*matrix[2,2] + x41_x43_pred\n",
    "    T[1,0] = T[0,1]\n",
    "    T[1,1] = pow(matrix[0,1],2) + pow(matrix[1,1],2)+ pow(matrix[2,1],2) + x42_2_pred\n",
    "    T[1,2] = matrix[0,1]*matrix[0,2] + matrix[1,1]*matrix[1,2]+ matrix[2,1]*matrix[2,2] +x42_x43_pred\n",
    "    T[2,0] = T[0,2]\n",
    "    T[2,1] = T[1,2]\n",
    "    T[2,2] = pow(matrix[0,2],2) + pow(matrix[1,2],2) + pow(matrix[2,2],2) + pow(matrix[3,2],2)\n",
    "    cov_new = 1/4*T - mean_new@mean_new.T\n",
    "    m = m +1"
   ]
  },
  {
   "cell_type": "code",
   "execution_count": 15,
   "id": "2232b0cd",
   "metadata": {},
   "outputs": [
    {
     "data": {
      "text/plain": [
       "14"
      ]
     },
     "execution_count": 15,
     "metadata": {},
     "output_type": "execute_result"
    }
   ],
   "source": [
    "m"
   ]
  },
  {
   "cell_type": "code",
   "execution_count": 16,
   "id": "3c27e145",
   "metadata": {},
   "outputs": [
    {
     "data": {
      "text/plain": [
       "array([[5.68066557, 0.        , 3.        ],\n",
       "       [7.        , 2.        , 6.        ],\n",
       "       [5.        , 1.        , 2.        ],\n",
       "       [6.54169197, 1.46153827, 5.        ]])"
      ]
     },
     "execution_count": 16,
     "metadata": {},
     "output_type": "execute_result"
    }
   ],
   "source": [
    "matrix[0,0] = x11_pred\n",
    "matrix[3,0] = x41_pred\n",
    "matrix[3,1] = x42_pred \n",
    "matrix"
   ]
  },
  {
   "cell_type": "code",
   "execution_count": 17,
   "id": "27680e87",
   "metadata": {},
   "outputs": [
    {
     "data": {
      "text/plain": [
       "6.3072377997368585e-06"
      ]
     },
     "execution_count": 17,
     "metadata": {},
     "output_type": "execute_result"
    }
   ],
   "source": [
    "np.linalg.norm(cov_new - cov_matrix)"
   ]
  },
  {
   "cell_type": "code",
   "execution_count": 18,
   "id": "728d0ab4",
   "metadata": {},
   "outputs": [
    {
     "data": {
      "text/plain": [
       "9.518816450693215e-08"
      ]
     },
     "execution_count": 18,
     "metadata": {},
     "output_type": "execute_result"
    }
   ],
   "source": [
    "np.linalg.norm(mean_new - mean_values.reshape(-1, 1)) "
   ]
  }
 ],
 "metadata": {
  "kernelspec": {
   "display_name": "Python 3 (ipykernel)",
   "language": "python",
   "name": "python3"
  },
  "language_info": {
   "codemirror_mode": {
    "name": "ipython",
    "version": 3
   },
   "file_extension": ".py",
   "mimetype": "text/x-python",
   "name": "python",
   "nbconvert_exporter": "python",
   "pygments_lexer": "ipython3",
   "version": "3.9.7"
  }
 },
 "nbformat": 4,
 "nbformat_minor": 5
}
